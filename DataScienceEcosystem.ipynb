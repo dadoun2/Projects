{
  "cells": [
    {
      "cell_type": "markdown",
      "metadata": {
        "id": "AisPcqdGt_tt"
      },
      "source": [
        "<center>\n",
        "    <img src=\"https://cf-courses-data.s3.us.cloud-object-storage.appdomain.cloud/IBMDeveloperSkillsNetwork-DS0105EN-SkillsNetwork/labs/Module2/images/SN_web_lightmode.png\" width=\"300\" alt=\"cognitiveclass.ai logo\">\n",
        "</center>\n"
      ]
    },
    {
      "cell_type": "markdown",
      "metadata": {
        "id": "ub_SvGoft_tu"
      },
      "source": [
        "#### Add your code below following the instructions given in the course\n"
      ]
    },
    {
      "cell_type": "markdown",
      "metadata": {
        "id": "ZaT9VdG5t_tv"
      },
      "source": [
        "# Data Science Tools and Ecosystem"
      ]
    },
    {
      "cell_type": "markdown",
      "metadata": {
        "id": "OHMcHmwst_tv"
      },
      "source": [
        "In this notebook, Data Science Tools and Ecosystem are summarized."
      ]
    },
    {
      "cell_type": "markdown",
      "source": [
        "**Objectives**:\n",
        "\n",
        "\n",
        "*   List popular languages for Data Science\n",
        "*   List Some of the commonly used libraries used by Data Scientists\n",
        "*   List some Data Science Tools\n",
        "*   Give few examples of evaluating arithmetic expressions in Python\n",
        "\n",
        "\n",
        "\n"
      ],
      "metadata": {
        "id": "XxwhEIwIvIN9"
      }
    },
    {
      "cell_type": "markdown",
      "metadata": {
        "id": "NKP00sVVt_tv"
      },
      "source": [
        "Some of the popular languages that Data Scientists use are:\n",
        "1. Python\n",
        "2. R\n",
        "3. SQL\n",
        "4. JAVA\n",
        "5. C++"
      ]
    },
    {
      "cell_type": "markdown",
      "metadata": {
        "id": "3SRjCf3Kt_tv"
      },
      "source": [
        "Some of the commonly used libraries used by Data Scientists include:\n",
        "1. Pandas\n",
        "2. Matplotlib\n",
        "3. Scikit-learn\n",
        "4. TensorFlow\n",
        "5. PyTorch"
      ]
    },
    {
      "cell_type": "markdown",
      "metadata": {
        "id": "l-K5IEMVt_tv"
      },
      "source": [
        "| Data Science Tools |\n",
        "| ------------------ |\n",
        "| Cassandra |\n",
        "| IBM Watson Studio |\n",
        "| GitHub |"
      ]
    },
    {
      "cell_type": "markdown",
      "metadata": {
        "id": "2Tca_JHTt_tw"
      },
      "source": [
        "### Below are a few examples of evaluating arithmetic expressions in Python"
      ]
    },
    {
      "cell_type": "code",
      "execution_count": 1,
      "metadata": {
        "colab": {
          "base_uri": "https://localhost:8080/"
        },
        "id": "4o72U8Uwt_tw",
        "outputId": "9056f873-6703-44bf-fec0-5db9815a9ada"
      },
      "outputs": [
        {
          "output_type": "execute_result",
          "data": {
            "text/plain": [
              "17"
            ]
          },
          "metadata": {},
          "execution_count": 1
        }
      ],
      "source": [
        "#This a simple arithmetic expression to mutiply then add integers\n",
        "(3*4) + 5"
      ]
    },
    {
      "cell_type": "code",
      "execution_count": 2,
      "metadata": {
        "colab": {
          "base_uri": "https://localhost:8080/"
        },
        "id": "KKlwUOwEt_tw",
        "outputId": "31ae450b-ddb8-476c-8417-063c1ace6ea3"
      },
      "outputs": [
        {
          "output_type": "stream",
          "name": "stdout",
          "text": [
            "200 minutes to hours is 3.3333333333333335 hours\n"
          ]
        }
      ],
      "source": [
        "#This will convert 200 minutes to hours by diving by 60\n",
        "print(\"200 minutes to hours is \"+ str(200/60)+\" hours\")"
      ]
    },
    {
      "cell_type": "markdown",
      "source": [
        "## Author\n",
        "Dadoun Yassine"
      ],
      "metadata": {
        "id": "MdHYcsKRwWPR"
      }
    }
  ],
  "metadata": {
    "kernelspec": {
      "display_name": "Python 3 (ipykernel)",
      "language": "python",
      "name": "python3"
    },
    "language_info": {
      "codemirror_mode": {
        "name": "ipython",
        "version": 3
      },
      "file_extension": ".py",
      "mimetype": "text/x-python",
      "name": "python",
      "nbconvert_exporter": "python",
      "pygments_lexer": "ipython3",
      "version": "3.11.9"
    },
    "colab": {
      "provenance": []
    }
  },
  "nbformat": 4,
  "nbformat_minor": 0
}